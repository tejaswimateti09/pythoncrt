{
 "cells": [
  {
   "cell_type": "markdown",
   "metadata": {},
   "source": [
    "# collection type\n",
    "1. list\n",
    "2. tuple\n",
    "3. dictionary\n",
    "\n"
   ]
  },
  {
   "cell_type": "code",
   "execution_count": 6,
   "metadata": {},
   "outputs": [
    {
     "name": "stdout",
     "output_type": "stream",
     "text": [
      "[12, 23, 45.6, 'abc', True, 45.6, 100]\n",
      "[12, 23, 45.6, 200, 'abc', True, 45.6, 100, 400, 500, 600]\n"
     ]
    }
   ],
   "source": [
    "#list->indexed,ordered,mutable,allows duplicate values\n",
    "list1 = [12,23,45.6,\"abc\",True]\n",
    "#adding elements\n",
    "list1.append(45.6)\n",
    "list1.append(100)\n",
    "print(list1)\n",
    "list1.insert(3,200)\n",
    "list1.extend([400,500,600])\n",
    "print(list1)"
   ]
  },
  {
   "cell_type": "code",
   "execution_count": 23,
   "metadata": {},
   "outputs": [
    {
     "name": "stdout",
     "output_type": "stream",
     "text": [
      "[12, 23, 45.6, 'abc']\n",
      "[12, 45.6, 'abc']\n"
     ]
    }
   ],
   "source": [
    "#removing elements-->pop(),remove()\n",
    "list1=[12,23,45.6,\"abc\",True]\n",
    "del list1[-1]\n",
    "print(list1)\n",
    "list1.remove(23)\n",
    "print(list1)"
   ]
  },
  {
   "cell_type": "code",
   "execution_count": 24,
   "metadata": {},
   "outputs": [
    {
     "data": {
      "text/plain": [
       "[12, 500, 'abc']"
      ]
     },
     "execution_count": 24,
     "metadata": {},
     "output_type": "execute_result"
    }
   ],
   "source": [
    "list1[1] = 500\n",
    "list1"
   ]
  },
  {
   "cell_type": "code",
   "execution_count": 27,
   "metadata": {},
   "outputs": [
    {
     "data": {
      "text/plain": [
       "['abc', 500, 12]"
      ]
     },
     "execution_count": 27,
     "metadata": {},
     "output_type": "execute_result"
    }
   ],
   "source": [
    "list1.reverse()\n",
    "list1"
   ]
  },
  {
   "cell_type": "markdown",
   "metadata": {},
   "source": [
    "list1.sort()\n",
    "list1"
   ]
  },
  {
   "cell_type": "code",
   "execution_count": 33,
   "metadata": {},
   "outputs": [
    {
     "data": {
      "text/plain": [
       "[55, 34, 23, 12]"
      ]
     },
     "execution_count": 33,
     "metadata": {},
     "output_type": "execute_result"
    }
   ],
   "source": [
    "list1 = [12,23,34,55]\n",
    "list1.sort(reverse=True)\n",
    "list1"
   ]
  },
  {
   "cell_type": "code",
   "execution_count": 34,
   "metadata": {},
   "outputs": [
    {
     "data": {
      "text/plain": [
       "2"
      ]
     },
     "execution_count": 34,
     "metadata": {},
     "output_type": "execute_result"
    }
   ],
   "source": [
    "list1.index(23)"
   ]
  },
  {
   "cell_type": "code",
   "execution_count": 36,
   "metadata": {},
   "outputs": [
    {
     "data": {
      "text/plain": [
       "[55, 34, 23, 12]"
      ]
     },
     "execution_count": 36,
     "metadata": {},
     "output_type": "execute_result"
    }
   ],
   "source": [
    "list2=list1.copy()\n",
    "list2"
   ]
  },
  {
   "cell_type": "code",
   "execution_count": 39,
   "metadata": {},
   "outputs": [
    {
     "name": "stdout",
     "output_type": "stream",
     "text": [
      "[55, 34, 23, 12, 23, 555, 555] [55, 34, 23, 12, 55, 55, 100]\n"
     ]
    }
   ],
   "source": [
    "list1.append(555)\n",
    "list2.append(100)\n",
    "print(list1,list2)"
   ]
  },
  {
   "cell_type": "code",
   "execution_count": 42,
   "metadata": {},
   "outputs": [
    {
     "data": {
      "text/plain": [
       "2"
      ]
     },
     "execution_count": 42,
     "metadata": {},
     "output_type": "execute_result"
    }
   ],
   "source": [
    "list1.count(555)\n"
   ]
  },
  {
   "cell_type": "markdown",
   "metadata": {},
   "source": [
    "#accept 3 subjects marks of the students and store values in a list\n",
    "#return total marks of the student\n",
    "\n"
   ]
  },
  {
   "cell_type": "code",
   "execution_count": 5,
   "metadata": {},
   "outputs": [
    {
     "name": "stdout",
     "output_type": "stream",
     "text": [
      "enter no of subjects3\n",
      "33\n",
      "33\n",
      "33\n",
      "sum 99\n"
     ]
    }
   ],
   "source": [
    "marks =[]\n",
    "a = int(input(\"enter no of subjects\"))\n",
    "for i in range(0,a):\n",
    "    marks.append(int(input()))\n",
    "print(\"sum\",sum(marks))\n",
    "\n"
   ]
  },
  {
   "cell_type": "code",
   "execution_count": 3,
   "metadata": {},
   "outputs": [
    {
     "name": "stdout",
     "output_type": "stream",
     "text": [
      "enter items2\n",
      "1\n",
      "2\n",
      "largest: 2\n"
     ]
    }
   ],
   "source": [
    "li =[]\n",
    "a = int(input(\"enter items\"))\n",
    "for i in range(0,a):\n",
    "    li.append(int(input()))\n",
    "print(\"largest:\",max(li))"
   ]
  },
  {
   "cell_type": "code",
   "execution_count": 1,
   "metadata": {},
   "outputs": [
    {
     "name": "stdout",
     "output_type": "stream",
     "text": [
      "enter items2\n",
      "45\n",
      "56\n",
      "smallest: 45\n"
     ]
    }
   ],
   "source": [
    "l =[]\n",
    "a = int(input(\"enter items\"))\n",
    "for i in range(0,a):\n",
    "    l.append(int(input()))\n",
    "print(\"smallest:\",min(l))"
   ]
  },
  {
   "cell_type": "code",
   "execution_count": 4,
   "metadata": {},
   "outputs": [
    {
     "name": "stdout",
     "output_type": "stream",
     "text": [
      "[11, 22, 100, 44]\n",
      "(11, 22, 100, 44)\n"
     ]
    }
   ],
   "source": [
    "#tuple-->indexed,ordered,allows duplicate values,immutable\n",
    "#use ()\n",
    "t1 = (11,22,33,44)\n",
    "l1 = list(t1)\n",
    "l1[2] = 100\n",
    "print(l1)\n",
    "t1 =tuple(l1)\n",
    "print(t1)"
   ]
  },
  {
   "cell_type": "markdown",
   "metadata": {},
   "source": [
    "#dict1 = {key1:value1,key2:value2,...}\n",
    "#rules for keys:\n",
    "1. keys shoild be unique\n",
    "2. keys shoukd be immutable(numbers,strings,tuples)\n",
    "\n"
   ]
  },
  {
   "cell_type": "code",
   "execution_count": 17,
   "metadata": {},
   "outputs": [
    {
     "data": {
      "text/plain": [
       "{'name': 'pinky', 'roll number': 26, 'address': 'kgm'}"
      ]
     },
     "execution_count": 17,
     "metadata": {},
     "output_type": "execute_result"
    }
   ],
   "source": [
    "s1 = {\"name\":\"pinky\",\"roll number\":26,\"course\":\"CSE\"}\n",
    "#adding new entry\n",
    "s1[\"address\"] = \"kgm\"\n",
    "s1[\"name\"]\n",
    "del s1[\"course\"]\n",
    "s1"
   ]
  },
  {
   "cell_type": "code",
   "execution_count": null,
   "metadata": {},
   "outputs": [],
   "source": []
  },
  {
   "cell_type": "code",
   "execution_count": null,
   "metadata": {},
   "outputs": [],
   "source": []
  },
  {
   "cell_type": "code",
   "execution_count": null,
   "metadata": {},
   "outputs": [],
   "source": []
  },
  {
   "cell_type": "code",
   "execution_count": null,
   "metadata": {},
   "outputs": [],
   "source": []
  },
  {
   "cell_type": "code",
   "execution_count": null,
   "metadata": {},
   "outputs": [],
   "source": []
  },
  {
   "cell_type": "code",
   "execution_count": null,
   "metadata": {},
   "outputs": [],
   "source": []
  },
  {
   "cell_type": "code",
   "execution_count": null,
   "metadata": {},
   "outputs": [],
   "source": []
  }
 ],
 "metadata": {
  "kernelspec": {
   "display_name": "Python 3",
   "language": "python",
   "name": "python3"
  },
  "language_info": {
   "codemirror_mode": {
    "name": "ipython",
    "version": 3
   },
   "file_extension": ".py",
   "mimetype": "text/x-python",
   "name": "python",
   "nbconvert_exporter": "python",
   "pygments_lexer": "ipython3",
   "version": "3.7.4"
  }
 },
 "nbformat": 4,
 "nbformat_minor": 2
}
